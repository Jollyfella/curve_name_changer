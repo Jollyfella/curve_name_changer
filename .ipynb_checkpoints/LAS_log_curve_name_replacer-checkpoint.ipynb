{
 "cells": [
  {
   "cell_type": "code",
   "execution_count": 101,
   "metadata": {},
   "outputs": [],
   "source": [
    "import os, fnmatch, time, datetime"
   ]
  },
  {
   "cell_type": "markdown",
   "metadata": {},
   "source": [
    "# Functions"
   ]
  },
  {
   "cell_type": "code",
   "execution_count": 102,
   "metadata": {},
   "outputs": [],
   "source": [
    "#def findReplace(directory, find, replace, filePattern):\n",
    "def findReplace(directory, filePattern):\n",
    "    \"\"\"This Function works through a direcory of file and finds the words in the mapping list and replaces them\"\"\"\n",
    "    start_time = time.monotonic()\n",
    "    for path, dirs, files in os.walk(os.path.abspath(directory)):\n",
    "        for filename in fnmatch.filter(files, filePattern):\n",
    "            filepath = os.path.join(path, filename)\n",
    "            with open(filepath) as f:\n",
    "                s = f.read()\n",
    "            #s = s.replace(find, replace)\n",
    "            mapping = [\n",
    "                 ('Comp+Core_log','Comp_Core_log')\n",
    "                ,('DEPTH_(m~','DEPTH_M')\n",
    "                ,('DEPTH(m)', 'DEPTH_M')\n",
    "                ,('DEPTH_(m)','DEPTH_M')\n",
    "                ,('K_%','K_PC')\n",
    "                ,('NPHI_v/v','NPHI_V_V')\n",
    "                ,('NPHI_V/V','NPHI_V_V')\n",
    "                ,('NPHI_v/V','NPHI_V_V')\n",
    "                ,('NPHI_%','NPHI_PC')\n",
    "                ,('NEUT_P_%','NEUT_P_PC')\n",
    "                ,('TH/K','TH_K')\n",
    "                ,('TH/U','TH_U')\n",
    "                #,('','')\n",
    "                #,('','')\n",
    "                #,('','')\n",
    "                #,('','')\n",
    "                ]\n",
    "\n",
    "            for find, replace in mapping:\n",
    "                s = s.replace(find, replace)            \n",
    "            with open(filepath, \"w\") as f:\n",
    "                f.write(s)\n",
    "    end_time = time.monotonic()\n",
    "    print(datetime.timedelta(seconds=end_time - start_time))"
   ]
  },
  {
   "cell_type": "code",
   "execution_count": 103,
   "metadata": {},
   "outputs": [
    {
     "name": "stdout",
     "output_type": "stream",
     "text": [
      "0:00:01.938000\n"
     ]
    }
   ],
   "source": [
    "#findReplace(\"some_dir\", \"find this\", \"replace with this\", \"*.txt\")\n",
    "#findReplace(r'C:\\Users\\H159846\\git\\python_curve_name_changer\\dir', ['DEPTH_(m)','DEPTH_(m~'], 'Depth_m', '*.las')\n",
    "findReplace(r'C:\\Users\\H159846\\git\\python_curve_name_changer\\dir\\las', '*.las')"
   ]
  },
  {
   "cell_type": "code",
   "execution_count": 73,
   "metadata": {},
   "outputs": [],
   "source": [
    "def mapping_list(find,replace):\n",
    "    mappings.append((find,replace))\n",
    "    print(mappings)"
   ]
  },
  {
   "cell_type": "code",
   "execution_count": 74,
   "metadata": {},
   "outputs": [],
   "source": [
    "mappings = []"
   ]
  },
  {
   "cell_type": "code",
   "execution_count": 75,
   "metadata": {},
   "outputs": [
    {
     "name": "stdout",
     "output_type": "stream",
     "text": [
      "[('find3', 'replace3')]\n"
     ]
    }
   ],
   "source": [
    "mapping_list('find3','replace3')"
   ]
  },
  {
   "cell_type": "code",
   "execution_count": 104,
   "metadata": {},
   "outputs": [
    {
     "name": "stdout",
     "output_type": "stream",
     "text": [
      "[('find3', 'replace3'), ('find1', 'replace1'), ('find1', 'replace1')]\n"
     ]
    }
   ],
   "source": [
    "mapping_list('find1','replace1')"
   ]
  },
  {
   "cell_type": "code",
   "execution_count": null,
   "metadata": {},
   "outputs": [],
   "source": [
    "            \n",
    "            dict =  {'Comp_Core_log':'Comp_Core_log'\n",
    "                    ,'DEPTH_M':'DEPTH_(m~'\n",
    "                    ,'DEPTH_M':'DEPTH(m)'\n",
    "                    ,'DEPTH_M':'DEPTH_(m)'\n",
    "                    ,'K_PC':'K_%'\n",
    "                    ,'NPHI_V_V':'NPHI_V_V'\n",
    "                    ,'DEPTH_M':'DEPTH_(m~'\n",
    "                    ,'DEPTH_M':'DEPTH_(m~'\n",
    "                    ,'DEPTH_M':'DEPTH_(m~'\n",
    "                    ,'DEPTH_M':'DEPTH_(m~'\n",
    "                    ,'DEPTH_M':'DEPTH_(m~'\n",
    "                    \n",
    "                 ('Comp_Core_log','Comp_Core_log')\n",
    "                ,('DEPTH_(m~','DEPTH_M')\n",
    "                ,('DEPTH(m)', 'DEPTH_M')\n",
    "                ,('DEPTH_(m)','DEPTH_M')\n",
    "                ,('K_%','K_PC')\n",
    "                ,('NPHI_V_V','NPHI_V_V')\n",
    "                ,('NPHI_V/V','NPHI_V_V')\n",
    "                ,('NPHI_v/V','NPHI_V_V')\n",
    "                ,('NPHI_%','NPHI_PC')\n",
    "                ,('NEUT_P_%','NEUT_P_PC')\n",
    "                ,('TH/K','TH_K')\n",
    "                ,('TH/U','TH_U')"
   ]
  },
  {
   "cell_type": "markdown",
   "metadata": {},
   "source": [
    "# PyUnit tests"
   ]
  },
  {
   "cell_type": "code",
   "execution_count": null,
   "metadata": {},
   "outputs": [],
   "source": [
    "class TestSchedule(unittest.TestCase):\n",
    "    \n",
    "    def test_upper(self):\n",
    "        self.assertEqual('foo'.upper(), 'FOO')\n",
    "        \n",
    "    def test_print_list(seq_list):\n",
    "        seq_list.assertListEqual(0,1)\n",
    "\n",
    "if __name__ == '__main__':\n",
    "    unittest.main(argv=['first-arg-is-ignored'], exit=False)"
   ]
  }
 ],
 "metadata": {
  "kernelspec": {
   "display_name": "Python 3",
   "language": "python",
   "name": "python3"
  },
  "language_info": {
   "codemirror_mode": {
    "name": "ipython",
    "version": 3
   },
   "file_extension": ".py",
   "mimetype": "text/x-python",
   "name": "python",
   "nbconvert_exporter": "python",
   "pygments_lexer": "ipython3",
   "version": "3.6.5"
  }
 },
 "nbformat": 4,
 "nbformat_minor": 2
}
